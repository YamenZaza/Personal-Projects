{
  "nbformat": 4,
  "nbformat_minor": 0,
  "metadata": {
    "colab": {
      "name": "NYC_CitiTrips_Exploration.ipynb",
      "provenance": [],
      "collapsed_sections": [],
      "mount_file_id": "1wF87mjr4fVcpfwrz_YpIsfxAEKk5DdKS",
      "authorship_tag": "ABX9TyMhoS72R/GeFi7Zdhex6WtZ",
      "include_colab_link": true
    },
    "kernelspec": {
      "name": "python3",
      "display_name": "Python 3"
    }
  },
  "cells": [
    {
      "cell_type": "markdown",
      "metadata": {
        "id": "view-in-github",
        "colab_type": "text"
      },
      "source": [
        "<a href=\"https://colab.research.google.com/github/YamenZaza/Personal-Projects/blob/master/NYC_CitiTrips_Exploration.ipynb\" target=\"_parent\"><img src=\"https://colab.research.google.com/assets/colab-badge.svg\" alt=\"Open In Colab\"/></a>"
      ]
    },
    {
      "cell_type": "markdown",
      "metadata": {
        "id": "uzeg_yQ1Huec",
        "colab_type": "text"
      },
      "source": [
        "In this short report, I will attempt to answer the following questions based on the NYC Citi Bike data:\n",
        "- What is the trip duration distribution of Citibike trips?\n",
        "- What is the most popular Citibike trip?\n",
        "- Were there new bike stations introduced or removed at any point in time? What makes you think it were or weren't?\n"
      ]
    },
    {
      "cell_type": "markdown",
      "metadata": {
        "id": "kxnhmdaCQ_uH",
        "colab_type": "text"
      },
      "source": [
        "Due to storage limitation, not all relevant information can be retrieved using SQL statements. The results are saved and imported to this notebook. The following SQL statement will be used to tackle the first question:\n",
        "  \n",
        "SELECT  \n",
        "  start_station_id AS start_station,  \n",
        "  end_station_id AS end_station,  \n",
        "  tripduration AS duration  \n",
        "FROM  \n",
        "  `bigquery-public-data.new_york.citibike_trips`"
      ]
    },
    {
      "cell_type": "markdown",
      "metadata": {
        "id": "BDA38EjHlqd7",
        "colab_type": "text"
      },
      "source": [
        "The analysis uses two Python tools only as follows:"
      ]
    },
    {
      "cell_type": "code",
      "metadata": {
        "id": "6bArgp_Hl0_Q",
        "colab_type": "code",
        "colab": {}
      },
      "source": [
        "import pandas as pd\n",
        "import matplotlib.pyplot as plt"
      ],
      "execution_count": null,
      "outputs": []
    },
    {
      "cell_type": "markdown",
      "metadata": {
        "id": "RgSRl8momByy",
        "colab_type": "text"
      },
      "source": [
        "We import our data and take a quick glimpse."
      ]
    },
    {
      "cell_type": "code",
      "metadata": {
        "id": "Uo1Vfmf5wlnv",
        "colab_type": "code",
        "colab": {
          "base_uri": "https://localhost:8080/",
          "height": 212
        },
        "outputId": "40bee433-2a6c-473a-bd91-caa5decd192c"
      },
      "source": [
        "# Trip duration schema is in seconds while start and end stations are represented by IDs\n",
        "dt = pd.read_csv(\"/content/drive/My Drive/bq-results-20200615-213639-yfxy5113kygz/citi_data.csv\")\n",
        "dt['duration'] = dt['duration'] / 60 / 60 # Durations in hours\n",
        "print(\"The original total number of enteries as of June 2020 is {}\".format(dt.size))\n",
        "dt.head()"
      ],
      "execution_count": null,
      "outputs": [
        {
          "output_type": "stream",
          "text": [
            "The original total number of enteries as of June 2020 is 99957057\n"
          ],
          "name": "stdout"
        },
        {
          "output_type": "execute_result",
          "data": {
            "text/html": [
              "<div>\n",
              "<style scoped>\n",
              "    .dataframe tbody tr th:only-of-type {\n",
              "        vertical-align: middle;\n",
              "    }\n",
              "\n",
              "    .dataframe tbody tr th {\n",
              "        vertical-align: top;\n",
              "    }\n",
              "\n",
              "    .dataframe thead th {\n",
              "        text-align: right;\n",
              "    }\n",
              "</style>\n",
              "<table border=\"1\" class=\"dataframe\">\n",
              "  <thead>\n",
              "    <tr style=\"text-align: right;\">\n",
              "      <th></th>\n",
              "      <th>start_station</th>\n",
              "      <th>duration</th>\n",
              "      <th>end_station</th>\n",
              "    </tr>\n",
              "  </thead>\n",
              "  <tbody>\n",
              "    <tr>\n",
              "      <th>0</th>\n",
              "      <td>387</td>\n",
              "      <td>0.315833</td>\n",
              "      <td>507</td>\n",
              "    </tr>\n",
              "    <tr>\n",
              "      <th>1</th>\n",
              "      <td>387</td>\n",
              "      <td>0.579444</td>\n",
              "      <td>501</td>\n",
              "    </tr>\n",
              "    <tr>\n",
              "      <th>2</th>\n",
              "      <td>387</td>\n",
              "      <td>0.562778</td>\n",
              "      <td>3002</td>\n",
              "    </tr>\n",
              "    <tr>\n",
              "      <th>3</th>\n",
              "      <td>387</td>\n",
              "      <td>0.175833</td>\n",
              "      <td>3002</td>\n",
              "    </tr>\n",
              "    <tr>\n",
              "      <th>4</th>\n",
              "      <td>387</td>\n",
              "      <td>0.179167</td>\n",
              "      <td>3002</td>\n",
              "    </tr>\n",
              "  </tbody>\n",
              "</table>\n",
              "</div>"
            ],
            "text/plain": [
              "   start_station  duration  end_station\n",
              "0            387  0.315833          507\n",
              "1            387  0.579444          501\n",
              "2            387  0.562778         3002\n",
              "3            387  0.175833         3002\n",
              "4            387  0.179167         3002"
            ]
          },
          "metadata": {
            "tags": []
          },
          "execution_count": 47
        }
      ]
    },
    {
      "cell_type": "markdown",
      "metadata": {
        "id": "VoVMKTIsQmHs",
        "colab_type": "text"
      },
      "source": [
        "We start off by cleaning the data we received. To do so, we start by checking for any corrupted values and removing them if present."
      ]
    },
    {
      "cell_type": "code",
      "metadata": {
        "id": "ktVPAEpdQ1Uv",
        "colab_type": "code",
        "colab": {
          "base_uri": "https://localhost:8080/",
          "height": 84
        },
        "outputId": "72230658-3c9a-400c-a0c7-4f176fa2e878"
      },
      "source": [
        "dt.isna().sum() # no NaN values - same result if isnull() is used"
      ],
      "execution_count": null,
      "outputs": [
        {
          "output_type": "execute_result",
          "data": {
            "text/plain": [
              "start_station    0\n",
              "duration         0\n",
              "end_station      0\n",
              "dtype: int64"
            ]
          },
          "metadata": {
            "tags": []
          },
          "execution_count": 48
        }
      ]
    },
    {
      "cell_type": "markdown",
      "metadata": {
        "id": "EbN-I_j5Q3Eg",
        "colab_type": "text"
      },
      "source": [
        "We can now move onto removing weird data from our dataset. The Pandas describe method allows us to see that we have huge values for trip durations in minutes. From the official NYC Citi bike website, we find that users who fail to return bikes within 24 hours from initial rental time will be fined $1200 (visited in June 2020).  \n",
        "  \n",
        "With the previous information, we try to limit our analysis to trip durations that are less than 24 hours. Trips that surpass that limit will be replaced by the average to ensure that certain pairs of stations dont get removed. This can of course affect the distrubtion; however, since the number of replaced trips is very small compared to the total number of trips it can be thought as still a meaningful approach for the questions."
      ]
    },
    {
      "cell_type": "code",
      "metadata": {
        "id": "FsbFNkA9TIOt",
        "colab_type": "code",
        "colab": {
          "base_uri": "https://localhost:8080/",
          "height": 101
        },
        "outputId": "c3eef36d-ea2f-4a6f-ccf8-58e72cf5f9e2"
      },
      "source": [
        "data_mean = dt['duration'].describe().transpose()[['min', 'max', 'mean']][2]\n",
        "print(\"Range of duration data:\")\n",
        "dt['duration'].describe().transpose()[['min', 'max', 'mean']]"
      ],
      "execution_count": null,
      "outputs": [
        {
          "output_type": "stream",
          "text": [
            "Range of duration data:\n"
          ],
          "name": "stdout"
        },
        {
          "output_type": "execute_result",
          "data": {
            "text/plain": [
              "min        0.016667\n",
              "max     1863.203611\n",
              "mean       0.259375\n",
              "Name: duration, dtype: float64"
            ]
          },
          "metadata": {
            "tags": []
          },
          "execution_count": 49
        }
      ]
    },
    {
      "cell_type": "code",
      "metadata": {
        "id": "wsh6-L0QejAu",
        "colab_type": "code",
        "colab": {}
      },
      "source": [
        "dt_filtered = dt.where(dt['duration'] < (24)).fillna(data_mean)"
      ],
      "execution_count": null,
      "outputs": []
    },
    {
      "cell_type": "markdown",
      "metadata": {
        "id": "7_R7HaBPlSKm",
        "colab_type": "text"
      },
      "source": [
        "In order to find the distribution of trip duration, a histogram will be displayed."
      ]
    },
    {
      "cell_type": "code",
      "metadata": {
        "id": "giTDkHQfi-1b",
        "colab_type": "code",
        "colab": {
          "base_uri": "https://localhost:8080/",
          "height": 1000
        },
        "outputId": "52f7ca44-7c6d-48ca-df57-43beb5b3c29b"
      },
      "source": [
        "bins = range(0, 25)\n",
        "plt.figure(figsize=(18,18))\n",
        "plt.hist(dt_filtered['duration'], bins = bins, log = True, color = 'green', edgecolor='black', linewidth=1.2, rwidth=0.8)\n",
        "plt.title(\"Trip Duration Distribution\")\n",
        "plt.xlabel(\"Trip Duration [hours]\")\n",
        "plt.ylabel(\"Trips Count [log-scale]\")\n",
        "plt.xlim(-1, 24)\n",
        "plt.xticks(range(25))\n",
        "# plt.savefig('trip_duration_distribution.png') # USE THIS LINE IF IT IS HARD TO SEE THE FIGURE\n",
        "plt.show()\n"
      ],
      "execution_count": null,
      "outputs": [
        {
          "output_type": "display_data",
          "data": {
            "image/png": "[encoded data removed]",
            "text/plain": [
              "<Figure size 1296x1296 with 1 Axes>"
            ]
          },
          "metadata": {
            "tags": [],
            "needs_background": "light"
          }
        }
      ]
    },
    {
      "cell_type": "markdown",
      "metadata": {
        "id": "S63Z0Cxvc2qm",
        "colab_type": "text"
      },
      "source": [
        "To answer the second question, a SQL statement is mainly used to get the most popular Citi bike ride between two unique and different stations. The statement is:  \n",
        "  \n",
        "SELECT  \n",
        "  start_station_id,  \n",
        "  STRING_AGG(start_station_name) AS start_station,  \n",
        "  end_station_id,  \n",
        "  STRING_AGG(end_station_name) AS end_station,  \n",
        "  COUNT(*) AS total_trips  \n",
        "FROM    \n",
        "  `bigquery-public-data.new_york.citibike_trips`  \n",
        "WHERE start_station_id != end_station_id  \n",
        "GROUP BY  \n",
        "  start_station_id, end_station_id  \n",
        "ORDER BY  \n",
        "  5 DESC  \n",
        "LIMIT  \n",
        "  1;  \n",
        "  \n"
      ]
    },
    {
      "cell_type": "code",
      "metadata": {
        "id": "I_Jp2FXLTutL",
        "colab_type": "code",
        "colab": {
          "base_uri": "https://localhost:8080/",
          "height": 34
        },
        "outputId": "174ff5ac-0671-4a97-9119-7727d39a8ae8"
      },
      "source": [
        "dt2 = pd.read_csv(\"/content/drive/My Drive/bq-results-20200616-200305-hgi09l2vasnd/citi_q2.csv\")\n",
        "top_start_station = dt2['start_station'][0].split(',')[0]\n",
        "top_end_station = dt2['end_station'][0].split(',')[0]\n",
        "top_total_trips = dt2['total_trips'][0]\n",
        "print(\"The most popular Citi bike trip is between '{}' and '{}' with a total of '{}' trips!\".format(top_start_station, top_end_station, top_total_trips))"
      ],
      "execution_count": null,
      "outputs": [
        {
          "output_type": "stream",
          "text": [
            "The most popular Citi bike trip is between '12 Ave & W 40 St' and 'West St & Chambers St' with a total of '12417' trips!\n"
          ],
          "name": "stdout"
        }
      ]
    },
    {
      "cell_type": "markdown",
      "metadata": {
        "id": "-Nb4giaCEG9Y",
        "colab_type": "text"
      },
      "source": [
        "To answer the third and final quesiton, we use the following SQL statement and explore the results:  \n",
        "  \n",
        "SELECT  \n",
        "station_id,  \n",
        "is_installed,  \n",
        "is_renting,  \n",
        "is_returning,  \n",
        "last_reported  \n",
        "FROM  \n",
        "`bigquery-public-data.new_york.citibike_stations`  \n",
        "WHERE  \n",
        "is_installed AND NOT is_renting AND NOT is_returning  "
      ]
    },
    {
      "cell_type": "code",
      "metadata": {
        "id": "DhcIBQDNJmB8",
        "colab_type": "code",
        "colab": {
          "base_uri": "https://localhost:8080/",
          "height": 254
        },
        "outputId": "c020c068-dabe-4c70-e460-e98f0d530c9f"
      },
      "source": [
        "dt3 = pd.read_csv(\"/content/drive/My Drive/bq-results-20200617-231431-16kmbpx8y7oj (1)/citi_q3.csv\")\n",
        "dt3"
      ],
      "execution_count": null,
      "outputs": [
        {
          "output_type": "execute_result",
          "data": {
            "text/html": [
              "<div>\n",
              "<style scoped>\n",
              "    .dataframe tbody tr th:only-of-type {\n",
              "        vertical-align: middle;\n",
              "    }\n",
              "\n",
              "    .dataframe tbody tr th {\n",
              "        vertical-align: top;\n",
              "    }\n",
              "\n",
              "    .dataframe thead th {\n",
              "        text-align: right;\n",
              "    }\n",
              "</style>\n",
              "<table border=\"1\" class=\"dataframe\">\n",
              "  <thead>\n",
              "    <tr style=\"text-align: right;\">\n",
              "      <th></th>\n",
              "      <th>station_id</th>\n",
              "      <th>is_installed</th>\n",
              "      <th>is_renting</th>\n",
              "      <th>is_returning</th>\n",
              "      <th>last_reported</th>\n",
              "    </tr>\n",
              "  </thead>\n",
              "  <tbody>\n",
              "    <tr>\n",
              "      <th>0</th>\n",
              "      <td>3416</td>\n",
              "      <td>True</td>\n",
              "      <td>False</td>\n",
              "      <td>False</td>\n",
              "      <td>1970-01-01 00:00:00 UTC</td>\n",
              "    </tr>\n",
              "    <tr>\n",
              "      <th>1</th>\n",
              "      <td>3457</td>\n",
              "      <td>True</td>\n",
              "      <td>False</td>\n",
              "      <td>False</td>\n",
              "      <td>1970-01-01 00:00:00 UTC</td>\n",
              "    </tr>\n",
              "    <tr>\n",
              "      <th>2</th>\n",
              "      <td>3594</td>\n",
              "      <td>True</td>\n",
              "      <td>False</td>\n",
              "      <td>False</td>\n",
              "      <td>1970-01-01 00:00:00 UTC</td>\n",
              "    </tr>\n",
              "    <tr>\n",
              "      <th>3</th>\n",
              "      <td>3476</td>\n",
              "      <td>True</td>\n",
              "      <td>False</td>\n",
              "      <td>False</td>\n",
              "      <td>2018-01-05 16:43:26 UTC</td>\n",
              "    </tr>\n",
              "    <tr>\n",
              "      <th>4</th>\n",
              "      <td>3548</td>\n",
              "      <td>True</td>\n",
              "      <td>False</td>\n",
              "      <td>False</td>\n",
              "      <td>1970-01-01 00:00:00 UTC</td>\n",
              "    </tr>\n",
              "    <tr>\n",
              "      <th>5</th>\n",
              "      <td>3436</td>\n",
              "      <td>True</td>\n",
              "      <td>False</td>\n",
              "      <td>False</td>\n",
              "      <td>1970-01-01 00:00:00 UTC</td>\n",
              "    </tr>\n",
              "    <tr>\n",
              "      <th>6</th>\n",
              "      <td>316</td>\n",
              "      <td>True</td>\n",
              "      <td>False</td>\n",
              "      <td>False</td>\n",
              "      <td>1970-01-01 00:00:00 UTC</td>\n",
              "    </tr>\n",
              "  </tbody>\n",
              "</table>\n",
              "</div>"
            ],
            "text/plain": [
              "   station_id  is_installed  is_renting  is_returning            last_reported\n",
              "0        3416          True       False         False  1970-01-01 00:00:00 UTC\n",
              "1        3457          True       False         False  1970-01-01 00:00:00 UTC\n",
              "2        3594          True       False         False  1970-01-01 00:00:00 UTC\n",
              "3        3476          True       False         False  2018-01-05 16:43:26 UTC\n",
              "4        3548          True       False         False  1970-01-01 00:00:00 UTC\n",
              "5        3436          True       False         False  1970-01-01 00:00:00 UTC\n",
              "6         316          True       False         False  1970-01-01 00:00:00 UTC"
            ]
          },
          "metadata": {
            "tags": []
          },
          "execution_count": 53
        }
      ]
    },
    {
      "cell_type": "markdown",
      "metadata": {
        "id": "f2DgC3PrJyxX",
        "colab_type": "text"
      },
      "source": [
        "A couple of remarks can be made on the results above:  \n",
        "1- Having last_reported datatimes of the Unix Time (1970-01-01 00:00:00 UTC) can mean that the schema defined this values as the default. Thus we can say that such stations have never reported which can possibly mean that the stations have been recently introduced.\n",
        "\n",
        "2- The station with id **3476** has not reported in a long time and the results show that it is no longer renting or accepting returns. We can say that this station has possibly been removed from being a public station but its structure is still intact.\n",
        "\n",
        "\n",
        "Notes:\n",
        "- Recording errors can affect data retrived negatively by adding fake new stations or trips. This can be further analyzed by drawing a geographical map using the station coordinates to varify that everything makes sense using simple Python packages.\n",
        "- We can double check the data by doing some web searches to varify the existence of the stations and whether they are operational or not."
      ]
    }
  ]
}